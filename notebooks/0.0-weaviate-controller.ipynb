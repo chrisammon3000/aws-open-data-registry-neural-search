{
 "cells": [
  {
   "cell_type": "code",
   "execution_count": 3,
   "metadata": {},
   "outputs": [],
   "source": [
    "import os\n",
    "from dotenv import load_dotenv, find_dotenv\n",
    "load_dotenv(find_dotenv());\n",
    "from pathlib import Path\n",
    "import json\n",
    "import pandas as pd\n",
    "import weaviate\n",
    "\n",
    "# Pandas display options\n",
    "pd.set_option('display.max_rows', None)\n",
    "pd.set_option('display.max_columns', None)\n",
    "pd.set_option('display.max_colwidth', None)\n",
    "pd.set_option('display.width', None)"
   ]
  },
  {
   "cell_type": "code",
   "execution_count": 13,
   "metadata": {},
   "outputs": [
    {
     "name": "stdout",
     "output_type": "stream",
     "text": [
      "http://54.196.175.148:8080\n"
     ]
    }
   ],
   "source": [
    "# create client; takes some time to start up\n",
    "host = os.environ[\"WEAVIATE_ENDPOINT\"]\n",
    "print(host)\n",
    "client = weaviate.Client(host)"
   ]
  },
  {
   "cell_type": "code",
   "execution_count": 14,
   "metadata": {},
   "outputs": [],
   "source": [
    "schema_path = Path(\"../tasks/load_odr/schema.json\")"
   ]
  },
  {
   "cell_type": "code",
   "execution_count": 15,
   "metadata": {},
   "outputs": [],
   "source": [
    "# open json file from root folder\n",
    "with open(schema_path) as f:\n",
    "    schema = json.load(f)"
   ]
  },
  {
   "cell_type": "code",
   "execution_count": 16,
   "metadata": {},
   "outputs": [],
   "source": [
    "# # delete existing schema\n",
    "# client.schema.delete_all()\n",
    "\n",
    "# # create schema\n",
    "# client.schema.create(schema)\n",
    "\n"
   ]
  },
  {
   "cell_type": "code",
   "execution_count": 12,
   "metadata": {},
   "outputs": [],
   "source": [
    "# # configure the batch settings\n",
    "# client.batch.configure(\n",
    "#   batch_size=100,\n",
    "#   dynamic=False,\n",
    "#   timeout_retries=3,\n",
    "#   callback=weaviate.util.check_batch_result,\n",
    "# )"
   ]
  },
  {
   "cell_type": "code",
   "execution_count": null,
   "metadata": {},
   "outputs": [],
   "source": []
  }
 ],
 "metadata": {
  "kernelspec": {
   "display_name": "aws-open-data-registry-neural-search-4l16sXU8-py3.11",
   "language": "python",
   "name": "python3"
  },
  "language_info": {
   "codemirror_mode": {
    "name": "ipython",
    "version": 3
   },
   "file_extension": ".py",
   "mimetype": "text/x-python",
   "name": "python",
   "nbconvert_exporter": "python",
   "pygments_lexer": "ipython3",
   "version": "3.10.10"
  },
  "orig_nbformat": 4,
  "vscode": {
   "interpreter": {
    "hash": "da1cd0ae48c9269d637de2cad39a5625755414099d5e0be5c58ef613cf780d46"
   }
  }
 },
 "nbformat": 4,
 "nbformat_minor": 2
}
